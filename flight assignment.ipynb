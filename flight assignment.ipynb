{
 "cells": [
  {
   "cell_type": "code",
   "execution_count": 1,
   "metadata": {},
   "outputs": [
    {
     "name": "stdout",
     "output_type": "stream",
     "text": [
      "enter the altitude1000\n",
      "land the flight\n"
     ]
    }
   ],
   "source": [
    "alt=int(input(\"enter the altitude\"))\n",
    "if alt<=1000:\n",
    "    print(\"land the flight\")\n",
    "elif alt>1000 and alt<=5000:\n",
    "    print(\"come down to 1000 feet\")\n",
    "else:\n",
    "    print(\"go around and try later\")"
   ]
  },
  {
   "cell_type": "code",
   "execution_count": 2,
   "metadata": {},
   "outputs": [
    {
     "name": "stdout",
     "output_type": "stream",
     "text": [
      "enter the altitude2500\n",
      "come down to 1000 feet\n"
     ]
    }
   ],
   "source": [
    "alt=int(input(\"enter the altitude\"))\n",
    "if alt<=1000:\n",
    "    print(\"land the flight\")\n",
    "elif alt>1000 and alt<=5000:\n",
    "    print(\"come down to 1000 feet\")\n",
    "else:\n",
    "    print(\"go around and try later\")"
   ]
  },
  {
   "cell_type": "code",
   "execution_count": 3,
   "metadata": {},
   "outputs": [
    {
     "name": "stdout",
     "output_type": "stream",
     "text": [
      "enter the altitude6500\n",
      "go around and try later\n"
     ]
    }
   ],
   "source": [
    "alt=int(input(\"enter the altitude\"))\n",
    "if alt<=1000:\n",
    "    print(\"land the flight\")\n",
    "elif alt>1000 and alt<=5000:\n",
    "    print(\"come down to 1000 feet\")\n",
    "else:\n",
    "    print(\"go around and try later\")"
   ]
  },
  {
   "cell_type": "code",
   "execution_count": null,
   "metadata": {},
   "outputs": [],
   "source": []
  }
 ],
 "metadata": {
  "kernelspec": {
   "display_name": "Python 3",
   "language": "python",
   "name": "python3"
  },
  "language_info": {
   "codemirror_mode": {
    "name": "ipython",
    "version": 3
   },
   "file_extension": ".py",
   "mimetype": "text/x-python",
   "name": "python",
   "nbconvert_exporter": "python",
   "pygments_lexer": "ipython3",
   "version": "3.8.3"
  }
 },
 "nbformat": 4,
 "nbformat_minor": 4
}
